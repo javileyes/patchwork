{
  "nbformat": 4,
  "nbformat_minor": 0,
  "metadata": {
    "colab": {
      "name": "Tutorial Colaboratory y de Mark Down",
      "provenance": [],
      "collapsed_sections": [],
      "include_colab_link": true
    },
    "kernelspec": {
      "name": "python3",
      "display_name": "Python 3"
    }
  },
  "cells": [
    {
      "cell_type": "markdown",
      "metadata": {
        "id": "view-in-github",
        "colab_type": "text"
      },
      "source": [
        "<a href=\"https://colab.research.google.com/github/javileyes/patchwork/blob/add-javileyes/Tutorial_Colaboratory_y_de_Mark_Down.ipynb\" target=\"_parent\"><img src=\"https://colab.research.google.com/assets/colab-badge.svg\" alt=\"Open In Colab\"/></a>"
      ]
    },
    {
      "cell_type": "markdown",
      "metadata": {
        "id": "wQLE-7xpilKJ"
      },
      "source": [
        "# Conociendo Google Colaboratory"
      ]
    },
    {
      "cell_type": "markdown",
      "metadata": {
        "id": "Ac_W92lq2o30"
      },
      "source": [
        "**Google Colaboratory** es un entorno de programación que nos permitirá el seguimiento de las lecciones de manera interactiva, ofreciéndonos una máquina virtual sobre la que desplegar nuestras bases de datos y prácticar las diversas consultas que iremos aprendiendo. Para su utilización, únicamente necesitaremos una cuenta en **Google**."
      ]
    },
    {
      "cell_type": "markdown",
      "metadata": {
        "id": "_2Nl9MSl7PSf"
      },
      "source": [
        "Actualmente tendréis **permisos de lectura** sobre este cuaderno, lo que os permitirá visualizar su contenido y ejecutar las celdas de código.\n",
        "\n",
        "Para ejecutar una celda de código haz clic en el icono de play que hay junto a la celda: ![play](https://drive.google.com/uc?export=view&id=1TeIpCkP0Mx2JMzpIGzAuhlDeKE9q89wm)\n",
        "\n",
        "O bien, haz clic en el contenido de la celda y presiona `Ctrl+Enter` (para ejecutar y mostrar el resultado y quedarte en la misma celda) o bien `Shift+Enter` para ejecutar, mostrar el resultado y pasar a la siguiente celda.\n",
        "\n",
        "Si todo ha ido bien, se nos mostrará un **número junto a la celda**. Este número indica el número de celdas ejecutadas hasta el momento."
      ]
    },
    {
      "cell_type": "markdown",
      "metadata": {
        "id": "MIQm9Wo771NN"
      },
      "source": [
        "Haz una prueba, **ejecuta la celda siguiente**, deberías obtener un resultado como el siguiente:\n",
        "\n",
        "![holamundo](https://drive.google.com/uc?export=view&id=1YwoF0gpEnAEpIq8sZRPGtsaOep2b9aZV)"
      ]
    },
    {
      "cell_type": "code",
      "metadata": {
        "id": "9BCkLnTf7aAH",
        "colab": {
          "base_uri": "https://localhost:8080/",
          "height": 34
        },
        "outputId": "25d6ffe4-fd31-4118-ba2d-fd354557a744"
      },
      "source": [
        "print(\"Hola Mundo!!\")"
      ],
      "execution_count": null,
      "outputs": [
        {
          "output_type": "stream",
          "text": [
            "Hola Mundo!!\n"
          ],
          "name": "stdout"
        }
      ]
    },
    {
      "cell_type": "markdown",
      "metadata": {
        "id": "OqJTDRIp9ChI"
      },
      "source": [
        "Si el resultado de la ejecución del código nos molestara mucho visualmente, podremos eliminar su visualización haciendo clic en el **icono de la puerta** situado bajo el icono **play**. "
      ]
    },
    {
      "cell_type": "markdown",
      "metadata": {
        "id": "03ZrDmxv9uhk"
      },
      "source": [
        "Para poder hacer los ejercicios tendréis que escribir código, por lo que necesitaréis poder **editar** este documento, para ello, la forma más cómoda es **Guardar una copia de este cuaderno en Drive**. Encontraremos esta opción en `Archivo` $\\rightarrow$ `Guardar una copia en Drive`."
      ]
    },
    {
      "cell_type": "markdown",
      "metadata": {
        "id": "epo86f5M-p8q"
      },
      "source": [
        "![copia-drive](https://drive.google.com/uc?export=view&id=1chb46Qkk1on4eCKcPZV3S2z2M-Euu3nL)"
      ]
    },
    {
      "cell_type": "code",
      "metadata": {
        "id": "AO-bSQKrmzC_"
      },
      "source": [
        ""
      ],
      "execution_count": null,
      "outputs": []
    },
    {
      "cell_type": "markdown",
      "metadata": {
        "id": "OGNG9jYY-z4X"
      },
      "source": [
        "Os recomendamos guardaros una **copia al comienzo de cada sesión**. De esta manera podréis editar el cuaderno con total libertad. Si necesitarais volver a la versión original, podréis recurrir al enlace que os hemos compartido."
      ]
    },
    {
      "cell_type": "code",
      "metadata": {
        "id": "BWkz77D2nCAJ"
      },
      "source": [
        ""
      ],
      "execution_count": null,
      "outputs": []
    },
    {
      "cell_type": "markdown",
      "metadata": {
        "id": "upaqt2F6_UuQ"
      },
      "source": [
        "Al comienzo de cada sesión os encontraréis uno o varios bloques de celdas ocultas:\n",
        "\n",
        "![copia-drive](https://drive.google.com/uc?export=view&id=1vnlxsVKqZR4wNX60bZb0QNex5XnIDNf9)"
      ]
    },
    {
      "cell_type": "markdown",
      "metadata": {
        "id": "zGz_Y1xj_uF-"
      },
      "source": [
        "Os recomendamos **no expandir** el contenido de estas celdas, pues contienen el código necesario para inicializar procedimientos que utilizaremos durante la clase y su visualización probablemente os confundiría. Sí que será necesario **ejecutar** este conjunto de celdas, para ello, desplazaremos el cursor del ratón a los corchetes `[    ]`, que se convertirán en un icono **play** y le haremos clic."
      ]
    },
    {
      "cell_type": "markdown",
      "metadata": {
        "id": "_x1r0Xb_Byb7"
      },
      "source": [
        "Si por error hubiéramos expandido el conjunto de celdas ocultas de alguna sección, para volver a ocultarlo simplemente haremos clic en el icono de flecha situado junto al encabezado:"
      ]
    },
    {
      "cell_type": "markdown",
      "metadata": {
        "id": "Z7_Y_F3fCAO3"
      },
      "source": [
        "![copia-drive](https://drive.google.com/uc?export=view&id=1jDXU72N5zGAhtObKbqMfqVejtk0j90vV)"
      ]
    },
    {
      "cell_type": "markdown",
      "metadata": {
        "id": "ep38cdCQAc4e"
      },
      "source": [
        "\n",
        "Esta sesión es realmente un cuaderno **Jupyter Notebook** que se está ejecutando en una máquina virtual proporcionada por **Google**. En la siguiente sección, **Conociendo Jupyter Notebook**, exploraremos la gran cantidad de posibilidades que nos ofrece este entorno de programación para la presentación de documentos **ejecutables** e **interactivos**."
      ]
    },
    {
      "cell_type": "markdown",
      "metadata": {
        "id": "KqKWRSZgKmyh"
      },
      "source": [
        "# Conociendo Jupyter Notebook "
      ]
    },
    {
      "cell_type": "markdown",
      "metadata": {
        "id": "lWsiP7hFLqTt"
      },
      "source": [
        "Jupyter Notebook es un entorno de desarrollo integrado (IDE) que permite crear y compartir documentos que contienen código ejecutable, ecuaciones, visualizaciones y texto explicativo.\n",
        "\n",
        "Este entorno tiene gran utilidad cuando desarrollamos aplicaciones para ciencia de datos y también en la enseñanza, ya que los alumnos pueden interactuar con el cuaderno paso a paso y comprender de una forma más descriptiva cómo se obtiene el resultado final.\n",
        "\n"
      ]
    },
    {
      "cell_type": "markdown",
      "metadata": {
        "id": "GR9Ukc9qT59C"
      },
      "source": [
        "Tenemos dos tipos de celdas: de **texto** y de **código**."
      ]
    },
    {
      "cell_type": "markdown",
      "metadata": {
        "id": "Yr2aK-hrk5zE"
      },
      "source": [
        "## Celdas de texto"
      ]
    },
    {
      "cell_type": "markdown",
      "metadata": {
        "id": "ekFSTWdflAhy"
      },
      "source": [
        "Jupyter Notebook utiliza Markdown para definir el estilo de nuestros textos. Markdown es un lenguaje cuyo objetivo es permitir la creación de contenido de manera legible y sencilla."
      ]
    },
    {
      "cell_type": "markdown",
      "metadata": {
        "id": "SqaA8djRlrOD"
      },
      "source": [
        "Nos proporciona una sintáxis bastante completa mediante la que podemos dar estructura a nuestro cuaderno. Por ejemplo, mediante el carácter `#`, podemos definir las secciones y subsecciones que definen nuestro trabajo. El siguente documento definiría dos secciones principales, de las cuales, la primera de ella contendría dos subsecciones y la segunda una sola:\n",
        "\n",
        "```\n",
        "# Sección principal 1\n",
        "## Sección secundaria 1.1\n",
        "## Sección secundaria 1.2\n",
        "# Sección principal 2\n",
        "## Sección secundaria 2.1\n",
        "```\n",
        "Podemos llegar a definir subsecciones con un nivel de profundidad de 6, es decir, precedidas por `######`.\n"
      ]
    },
    {
      "cell_type": "markdown",
      "metadata": {
        "id": "XJTs53wAnJAN"
      },
      "source": [
        "En Jupyter también podemos definir listas de elementos, las cuales pueden ser **ordenadas** o **no ordenadas**.\n",
        "\n",
        "Veamos unos cuantos ejemplos de listas no ordenadas. Para definir una lista de elementos indexada por puntos, haremos uso del carácter \"`*`\" y un espacio. \n",
        "\n",
        "Por ejemplo, el texto:\n",
        "```\n",
        "* Elemento1\n",
        "* Elemento2\n",
        "* Elemento3\n",
        "```\n",
        "Se visualizaría de la siguiente manera:\n",
        "\n",
        "* Elemento1\n",
        "* Elemento2\n",
        "* Elemento3\n",
        "\n",
        "En lugar del asterisco, podemos utilizar el carácter guión \"`-`\". Además, podemos anidar listas dentro de listas, para lo que tendremos que indentarlas con espacios.\n",
        "\n",
        "El texto:\n",
        "```\n",
        "- Elemento1\n",
        "  - Elemento2\n",
        "- Elemento3\n",
        "```\n",
        "\n",
        "Se visualizaría de la siguiente manera:\n",
        "\n",
        "- Elemento1\n",
        "  - Elemento2\n",
        "- Elemento3\n",
        "\n",
        "\n"
      ]
    },
    {
      "cell_type": "markdown",
      "metadata": {
        "id": "1M4Z7ihGpNNX"
      },
      "source": [
        "En cuanto a las listas **ordenadas**, tenemos varias opciones. Podemos ordenarlas numéricamente, escribiendo cada elemento precedido de un número y un punto, de modo que:\n",
        "\n",
        "```\n",
        "1. Uno\n",
        "2. Dos\n",
        "3. Tres\n",
        "```\n",
        "Se visualizaría como:\n",
        "\n",
        "1. Uno\n",
        "2. Dos\n",
        "4. Tres\n"
      ]
    },
    {
      "cell_type": "markdown",
      "metadata": {
        "id": "CugH8qYyqGrU"
      },
      "source": [
        "Como habréis podido observar, podemos jugar con el estilo de cada palabra, pudiendo escribir frases o palabras en negrita, cursiva o tachadas. Una frase rodeada de dos asteriscos \"`*`\" o de dos guiones bajos \"`_`\" se mostrará en negrita. Si solo se encuentra rodeada por un asterisco o guión bajo, se mostrará en cursiva. Rodearemos la palabra entre dos caracteres de tilde de ñ \"`~`\" para que aparezca tachada.\n",
        "\n",
        "Por ejemplo, el siguiente texto:\n",
        "\n",
        "```\n",
        "**Esta frase está en negrita** y __esta también__. \n",
        "Podemos escribir en *cursiva* e incluso combinar _**cursiva y negrita**_.\n",
        "~~Esto no debería haberlo escrito~~, \n",
        "~~**ni tampoco haber puesto esto en negrita**~~.\n",
        "```\n",
        "\n",
        "**Esta frase está en negrita** y __esta también__. Podemos escribir en *cursiva* e incluso combinar _**cursiva y negrita**_. ~~Esto no debería haberlo escrito~~, ~~**ni tampoco haber puesto esto en negrita**~~."
      ]
    },
    {
      "cell_type": "markdown",
      "metadata": {
        "id": "Jp0EIi-mrusi"
      },
      "source": [
        "Podemos incluir también enlaces en nuestro cuaderno a recursos que consideremos de interés. Una referencia muy útil es la [cheatsheet](https://github.com/adam-p/markdown-here/wiki/Markdown-Cheatsheet) de Markdown, cuyo enlace hemos generado de la siguiente manera:\n",
        "```\n",
        "[cheatsheet](https://github.com/adam-p/markdown-here/wiki/Markdown-Cheatsheet)\n",
        "```\n",
        "También podíamos haber escrito la URL directamente. La detección en este caso se hará automáticamente, sin ninguna notación especial: https://github.com/adam-p/markdown-here/wiki/Markdown-Cheatsheet."
      ]
    },
    {
      "cell_type": "markdown",
      "metadata": {
        "id": "dAmFUF5xshY4"
      },
      "source": [
        "También podemos incluir imágenes en nuestro documento, su sintáxis es muy parecida a la de los enlaces: `![texto alternativo](url de imagen \"Titulo\")`.\n",
        "\n",
        "Por ejemplo, si quisiéramos mostrar el logo de Python, escribiríamos lo siguiente:\n",
        "\n",
        "```\n",
        "![Logo Python](https://www.python.org/static/community_logos/python-logo-master-v3-TM-flattened.png \"Logo\")\n",
        "```\n",
        "\n",
        "![Logo Python](https://www.python.org/static/community_logos/python-logo-master-v3-TM-flattened.png \"Logo\")"
      ]
    },
    {
      "cell_type": "markdown",
      "metadata": {
        "id": "Vb07YgxOvgpw"
      },
      "source": [
        "También podemos mostrar código literalmente en celdas de texto. El texto mostrado utilizará una letra monoespaciada para facilitar su visualización.\n",
        "\n",
        "El código podría mostrarse en la misma línea, rodeándolo del carácter tilde \"`\". El siguiente texto\n",
        "```\n",
        "Este texto contiene código en línea `int i = 0; i++`.\n",
        "```\n",
        "Se mostraría de la siguiente manera:\n",
        "\n",
        "Este texto contiene código en línea `int i = 0; i++`.\n",
        "\n",
        "Utilizaremos tres caracteres tilde seguidos \"```\" para especificar bloques de código de varias líneas. Si conocemos el lenguaje de programación, podemos escribirlos tras las tres tildes iniciales para resaltar sus palabras clave. Por ejemplo:\n",
        "\n",
        "```\n",
        "     ```python\n",
        "       saludo = \"Hola mundo\"\n",
        "       print(saludo)\n",
        "    ```\n",
        "```\n",
        "Se visualizaría de la siguiente manera:\n",
        "\n",
        "```python\n",
        "saludo = \"Hola mundo\"\n",
        "print(saludo)\n",
        "```\n"
      ]
    },
    {
      "cell_type": "markdown",
      "metadata": {
        "id": "3-hORz35yFuY"
      },
      "source": [
        "También podemos mostrar tablas en Jupyter, aunque su formato es algo tedioso. Por ello recomendamos hacer uso de una [herramienta](https://www.tablesgenerator.com/markdown_tables) de generación de tablas para Markdown. El siguiente contenido:\n",
        "\n",
        "```\n",
        "| Base de datos | Tipo       | Licencia |\n",
        "|---------------|------------|----------|\n",
        "| PostgreSQL    | Relacional | Libre    |\n",
        "| MongoDB       | Documental | Libre    |\n",
        "| Neo4j         | Grafo      | Libre    |\n",
        "```\n",
        "\n",
        "Se mostraría de la siguiente manera:\n",
        "\n",
        "| Base de datos | Tipo       | Licencia |\n",
        "|---------------|------------|----------|\n",
        "| PostgreSQL    | Relacional | Libre    |\n",
        "| MongoDB       | Documental | Libre    |\n",
        "| Neo4j         | Grafo      | Libre    |"
      ]
    },
    {
      "cell_type": "markdown",
      "metadata": {
        "id": "gzw-0wCfy8QD"
      },
      "source": [
        "Podemos incluso redactar fórmulas complejas haciendo uso de LaTeX. Las cuales pueden redactarse en la misma línea rodeándolas por el carácter dólar \"`$`\" (`$y=x^2+1$` produce $y=x^2+1$), o bien escribirse aparte rodeándolas por dos caracteres dólar.\n",
        "\n",
        "El siguiente contenido\n",
        "\n",
        "```\n",
        "$$\n",
        "x = \\frac{-b \\pm \\sqrt{b^2 - 4ac}}{2a}\n",
        "$$\n",
        "```\n",
        "Se mostraría de la siguiente manera:\n",
        "\n",
        "$$\n",
        "x = \\frac{-b \\pm \\sqrt{b^2 - 4ac}}{2a}\n",
        "$$\n",
        "\n"
      ]
    },
    {
      "cell_type": "markdown",
      "metadata": {
        "id": "-PJ1dZxV0m3T"
      },
      "source": [
        "Por si esto no fuera poco, también podemos escribir contenido HTML en nuestras celdas de texto, el cual será interpretado directamente.\n",
        "\n",
        "Por ejemplo:\n",
        "```html\n",
        "<p>\n",
        "Este <strong>texto</strong> está en HTML. Puedo insertar <a href=\"#\">enlaces</a> o enumerados como si de una página web se tratara:\n",
        "<ul>\n",
        "<li>Elemento1</li>\n",
        "<li>Elemento2</li>\n",
        "<li>Elemento3</li>\n",
        "</ul>\n",
        "</p>\n",
        "```\n",
        "Se visualizará de la siguiente manera:\n",
        "<p>\n",
        "Este <strong>texto</strong> está en HTML. Puedo insertar <a href=\"#\">enlaces</a> o enumerados como si de una página web se tratara:\n",
        "<ul>\n",
        "<li>Elemento1</li>\n",
        "<li>Elemento2</li>\n",
        "<li>Elemento3</li>\n",
        "</ul>\n",
        "</p>"
      ]
    },
    {
      "cell_type": "markdown",
      "metadata": {
        "id": "neSLjqVwg7t8"
      },
      "source": [
        "### Ejercicio\n",
        "\n",
        "**Aplica formato al siguiente contenido para que aparezca conforme el propio texto indica:**\n"
      ]
    },
    {
      "cell_type": "markdown",
      "metadata": {
        "id": "itFAluv3h7xS"
      },
      "source": [
        "\n",
        "Soy un ejemplo de contenido. La próxima palabra debería aparecer en **negrita** y esta en *cursiva*. Esta otra debería ser ***negrita y cursiva***.\n",
        "\n",
        "A continuación os muestro un listado no numerado: \n",
        "- Javascript \n",
        "- PHP \n",
        "- Python.\n",
        "\n",
        "El siguiente listado será numerado: \n",
        "1. primero \n",
        "2. segundo \n",
        "3. tercero.\n",
        "\n",
        "Aquí pondremos un enlace a [google](https://google.es) \n",
        "Y aquí su ![logo], para hacerle propaganda.\n",
        "```java\n",
        "// Lo siguiente debería ser formateado como código \n",
        "int n = 10;\n",
        "for (int i = 0; i < n; i++) {\n",
        "  System.out.println(i);\n",
        "} \n",
        "```\n",
        "¿Podrías dar a lo siguiente formato de ecuación? $y = x^2 + \\sqrt{3}$\n",
        "\n",
        "Lo siguiente debería ser una tabla:\n",
        "\n",
        "encabezado encabezado\n",
        "celda      celda\n",
        "celda      celda"
      ]
    },
    {
      "cell_type": "markdown",
      "metadata": {
        "id": "VmBqtara4okO"
      },
      "source": [
        "## Celdas de código"
      ]
    },
    {
      "cell_type": "markdown",
      "metadata": {
        "id": "NFuOkj0U4rOc"
      },
      "source": [
        "Jupyter permite por defecto la ejecución de celdas con código Python. Sin embargo, también proporciona soporte para ejecutar código de otros lenguajes de programación como Java, R o Scala, siempre que instalemos el kernel correspondiente (más [información](https://github.com/jupyter/jupyter/wiki/Jupyter-kernels))."
      ]
    },
    {
      "cell_type": "markdown",
      "metadata": {
        "id": "9E5Hnj_x6ia_"
      },
      "source": [
        "Para ejecutar código Python, simplemente escribiremos directamente en este lenguaje en una celda de tipo **código**. Por defecto, Jupyter nos mostrará el resultado de la última línea de código:"
      ]
    },
    {
      "cell_type": "code",
      "metadata": {
        "id": "WJ8D1nFX6iCy"
      },
      "source": [
        "[i for i in range(0,5)]"
      ],
      "execution_count": null,
      "outputs": []
    },
    {
      "cell_type": "markdown",
      "metadata": {
        "id": "Q-TpAhZV7yh-"
      },
      "source": [
        "Si no queremos que se nos muestre el resultado de la última línea, una alternativa sencilla sería añadir al final un punto y coma \"`;`\":"
      ]
    },
    {
      "cell_type": "code",
      "metadata": {
        "id": "L4Nn-nI377bi"
      },
      "source": [
        "[i for i in range(0,5)];"
      ],
      "execution_count": null,
      "outputs": []
    },
    {
      "cell_type": "markdown",
      "metadata": {
        "id": "yC6yq8Cf7KoM"
      },
      "source": [
        "Además, Jupyter nos permite la ejecución de *comandos mágicos* mediante los que podemos extender aún más la funcionalidad de los cuadernos."
      ]
    },
    {
      "cell_type": "markdown",
      "metadata": {
        "id": "76LeT5O-8a1Z"
      },
      "source": [
        "Por ejemplo, el comando mágico `%%html` nos permite mostrar el contenido directamente en formato HTML:"
      ]
    },
    {
      "cell_type": "markdown",
      "metadata": {
        "id": "ap6r_Y87w0p9"
      },
      "source": [
        ""
      ]
    },
    {
      "cell_type": "markdown",
      "metadata": {
        "id": "Sk3807auw27S"
      },
      "source": [
        "[texto del enlace](https://)"
      ]
    },
    {
      "cell_type": "code",
      "metadata": {
        "id": "Ig5GO8w6x7ZU",
        "colab": {
          "base_uri": "https://localhost:8080/",
          "height": 117
        },
        "outputId": "f1342bde-976e-44ca-aecb-b4f6ba226264"
      },
      "source": [
        "%%html\n",
        "<style type=\"text/css\">\n",
        "  @keyframes animation {\n",
        "    0%   {background-color:red; left:0px; top:0px; transform: rotate(0deg);}\n",
        "    25%  {background-color:yellow; left:50px; top:0px; transform: rotate(45deg);}\n",
        "    50%  {background-color:blue; left:50px; top:50px; transform: rotate(90deg);}\n",
        "    75%  {background-color:green; left:0px; top:50px; transform: rotate(135deg);}\n",
        "    100% {background-color:red; left:0px; top:0px; transform: rotate(180deg);}\n",
        "  }\n",
        "\n",
        "  .square {\n",
        "    position: relative;\n",
        "    height: 60px;\n",
        "    width: 60px;\n",
        "    background-color: green;\n",
        "    color: white;\n",
        "    font-weight: bold;\n",
        "    text-align: center;\n",
        "    line-height: 30px;\n",
        "  }\n",
        "  .animated {\n",
        "    animation-name: animation;\n",
        "    animation-duration: 4s;\n",
        "    animation-iteration-count: infinite;\n",
        "  }\n",
        "  .container {\n",
        "    height: 100px;\n",
        "    width: 100px;\n",
        "  }\n",
        "</style>\n",
        "<div class=\"container\">\n",
        "  <div class=\"animated square\">SOY HTML!!!<div>\n",
        "</div>\n"
      ],
      "execution_count": null,
      "outputs": [
        {
          "output_type": "display_data",
          "data": {
            "text/html": [
              "<style type=\"text/css\">\n",
              "  @keyframes animation {\n",
              "    0%   {background-color:red; left:0px; top:0px; transform: rotate(0deg);}\n",
              "    25%  {background-color:yellow; left:50px; top:0px; transform: rotate(45deg);}\n",
              "    50%  {background-color:blue; left:50px; top:50px; transform: rotate(90deg);}\n",
              "    75%  {background-color:green; left:0px; top:50px; transform: rotate(135deg);}\n",
              "    100% {background-color:red; left:0px; top:0px; transform: rotate(180deg);}\n",
              "  }\n",
              "\n",
              "  .square {\n",
              "    position: relative;\n",
              "    height: 60px;\n",
              "    width: 60px;\n",
              "    background-color: green;\n",
              "    color: white;\n",
              "    font-weight: bold;\n",
              "    text-align: center;\n",
              "    line-height: 30px;\n",
              "  }\n",
              "  .animated {\n",
              "    animation-name: animation;\n",
              "    animation-duration: 4s;\n",
              "    animation-iteration-count: infinite;\n",
              "  }\n",
              "  .container {\n",
              "    height: 100px;\n",
              "    width: 100px;\n",
              "  }\n",
              "</style>\n",
              "<div class=\"container\">\n",
              "  <div class=\"animated square\">SOY HTML!!!<div>\n",
              "</div>"
            ],
            "text/plain": [
              "<IPython.core.display.HTML object>"
            ]
          },
          "metadata": {
            "tags": []
          }
        }
      ]
    },
    {
      "cell_type": "markdown",
      "metadata": {
        "id": "ANmR0uKd_BZ8"
      },
      "source": [
        "También podemos medir el tiempo de ejecución de nuestro código haciendo uso del comando `%%time`:"
      ]
    },
    {
      "cell_type": "code",
      "metadata": {
        "id": "QZDuotAzk-RU",
        "colab": {
          "base_uri": "https://localhost:8080/",
          "height": 50
        },
        "outputId": "9068ba7f-c0d6-4291-eb40-9acd86e11503"
      },
      "source": [
        "%%time\n",
        "result = [i for i in range (0,100000)]"
      ],
      "execution_count": null,
      "outputs": [
        {
          "output_type": "stream",
          "text": [
            "CPU times: user 7.72 ms, sys: 1.61 ms, total: 9.33 ms\n",
            "Wall time: 16.9 ms\n"
          ],
          "name": "stdout"
        }
      ]
    },
    {
      "cell_type": "markdown",
      "metadata": {
        "id": "YSl_0ZeOAACh"
      },
      "source": [
        "El comando mágico `%%timeit` nos permitirá repetir ejecutar varias veces un fragmento de código e informarnos acerca de su tiempo de ejecución promedio y de la desviación. Mediante el argumento `-n` indicaremos cuántas veces se ejecutará. Además, si queremos guardar el resultado en una variable Python, podemos utilizar el argumento `-o`."
      ]
    },
    {
      "cell_type": "code",
      "metadata": {
        "id": "xS0O6QuB_-XT"
      },
      "source": [
        "%%timeit -n 15 -o\n",
        "# Ejecuta este código 10 veces y guarda el resultado\n",
        "# en la variable timing\n",
        "result = [i for i in range (0,100000)]"
      ],
      "execution_count": null,
      "outputs": []
    },
    {
      "cell_type": "markdown",
      "metadata": {
        "id": "jCRcQ-k5B1TK"
      },
      "source": [
        "Podremos acceder a este valor haciendo uso de la variable especial `_`, que almacena el resultado de la última ejecución:"
      ]
    },
    {
      "cell_type": "code",
      "metadata": {
        "id": "k5cF426aM8BL"
      },
      "source": [
        "result = _\n",
        "result"
      ],
      "execution_count": null,
      "outputs": []
    },
    {
      "cell_type": "markdown",
      "metadata": {
        "id": "GwkojsAEMBKT"
      },
      "source": [
        "Nuestro cuaderno se encuentra actualmente ejecutándose en una máquina virtual proporcionada por Google. Esta máquina tiene instalada la distribución *Ubuntu* de *Linux*. Un comando mágico muy interesante es `%%bash`, mediante el que podremos ejecutar comandos como si de un terminal bash se tratara:"
      ]
    },
    {
      "cell_type": "code",
      "metadata": {
        "id": "7EUh-43CCyB0"
      },
      "source": [
        "%%bash\n",
        "ls sample_data\n",
        "echo hola"
      ],
      "execution_count": null,
      "outputs": []
    },
    {
      "cell_type": "markdown",
      "metadata": {
        "id": "Dkbel9X3DO8Z"
      },
      "source": [
        "Podemos incluso capturar la salida de la ejecución de sentencias bash para luego utilizarla en Python:"
      ]
    },
    {
      "cell_type": "code",
      "metadata": {
        "id": "WccMwdrPDOK4"
      },
      "source": [
        "%%bash --out anscombe\n",
        "cat sample_data/anscombe.json"
      ],
      "execution_count": null,
      "outputs": []
    },
    {
      "cell_type": "code",
      "metadata": {
        "id": "fO0qrExBDjPE"
      },
      "source": [
        "print(anscombe[0:100])"
      ],
      "execution_count": null,
      "outputs": []
    },
    {
      "cell_type": "markdown",
      "metadata": {
        "id": "R9iqAPKUDzHc"
      },
      "source": [
        "Este comando es de gran utilidad, ya que nos permite instalar librerías de Python que no vengan incluidas por defecto haciendo uso del instalador `pip`, el cual nos es proporcionado por la máquina virtual de Google. Por ejemplo, si quisiéramos instalar la librería de visualización de datos estadísticos `seaborn`, escribiríamos lo siguiente:"
      ]
    },
    {
      "cell_type": "code",
      "metadata": {
        "id": "laKORJodDyOJ",
        "colab": {
          "base_uri": "https://localhost:8080/"
        },
        "outputId": "ffea7db0-b745-4078-9b65-62d416308e99"
      },
      "source": [
        "%%bash\n",
        "pip install seaborn"
      ],
      "execution_count": 1,
      "outputs": [
        {
          "output_type": "stream",
          "text": [
            "Requirement already satisfied: seaborn in /usr/local/lib/python3.6/dist-packages (0.11.1)\n",
            "Requirement already satisfied: pandas>=0.23 in /usr/local/lib/python3.6/dist-packages (from seaborn) (1.1.5)\n",
            "Requirement already satisfied: numpy>=1.15 in /usr/local/lib/python3.6/dist-packages (from seaborn) (1.19.5)\n",
            "Requirement already satisfied: scipy>=1.0 in /usr/local/lib/python3.6/dist-packages (from seaborn) (1.4.1)\n",
            "Requirement already satisfied: matplotlib>=2.2 in /usr/local/lib/python3.6/dist-packages (from seaborn) (3.2.2)\n",
            "Requirement already satisfied: python-dateutil>=2.7.3 in /usr/local/lib/python3.6/dist-packages (from pandas>=0.23->seaborn) (2.8.1)\n",
            "Requirement already satisfied: pytz>=2017.2 in /usr/local/lib/python3.6/dist-packages (from pandas>=0.23->seaborn) (2018.9)\n",
            "Requirement already satisfied: cycler>=0.10 in /usr/local/lib/python3.6/dist-packages (from matplotlib>=2.2->seaborn) (0.10.0)\n",
            "Requirement already satisfied: kiwisolver>=1.0.1 in /usr/local/lib/python3.6/dist-packages (from matplotlib>=2.2->seaborn) (1.3.1)\n",
            "Requirement already satisfied: pyparsing!=2.0.4,!=2.1.2,!=2.1.6,>=2.0.1 in /usr/local/lib/python3.6/dist-packages (from matplotlib>=2.2->seaborn) (2.4.7)\n",
            "Requirement already satisfied: six>=1.5 in /usr/local/lib/python3.6/dist-packages (from python-dateutil>=2.7.3->pandas>=0.23->seaborn) (1.15.0)\n"
          ],
          "name": "stdout"
        }
      ]
    },
    {
      "cell_type": "markdown",
      "metadata": {
        "id": "vlSI2DusI_iN"
      },
      "source": [
        "A partir de ahora podríamos importarla y utilizarla:"
      ]
    },
    {
      "cell_type": "code",
      "metadata": {
        "id": "hsKO49H9I-kq",
        "colab": {
          "base_uri": "https://localhost:8080/",
          "height": 296
        },
        "outputId": "6b9de573-2481-474f-db27-a1e1c8e84c4d"
      },
      "source": [
        "import seaborn as sns\n",
        "\n",
        "# Load an example dataset with long-form data\n",
        "fmri = sns.load_dataset(\"fmri\")\n",
        "\n",
        "# Plot the responses for different events and regions\n",
        "sns.lineplot(x=\"timepoint\", y=\"signal\",\n",
        "             hue=\"region\", style=\"event\",\n",
        "             data=fmri)"
      ],
      "execution_count": 2,
      "outputs": [
        {
          "output_type": "execute_result",
          "data": {
            "text/plain": [
              "<matplotlib.axes._subplots.AxesSubplot at 0x7fd235773198>"
            ]
          },
          "metadata": {
            "tags": []
          },
          "execution_count": 2
        },
        {
          "output_type": "display_data",
          "data": {
            "image/png": "[encoded data removed]",
            "text/plain": [
              "<Figure size 432x288 with 1 Axes>"
            ]
          },
          "metadata": {
            "tags": [],
            "needs_background": "light"
          }
        }
      ]
    },
    {
      "cell_type": "markdown",
      "metadata": {
        "id": "XAtzWrMwJgaa"
      },
      "source": [
        "También podemos mostrar gráficas haciendo uso de la librería `matplotlib`:"
      ]
    },
    {
      "cell_type": "code",
      "metadata": {
        "id": "4xCxxQFxJfKN",
        "colab": {
          "base_uri": "https://localhost:8080/",
          "height": 265
        },
        "outputId": "63f23802-98f8-46c0-a10c-202d2c049db9"
      },
      "source": [
        "import matplotlib.pyplot as plt\n",
        "import numpy as np\n",
        "\n",
        "ticks = [1,2,3,4,5,6,7]\n",
        "values = [20,10,0,40,10,5,50]\n",
        "plt.bar(ticks, values)\n",
        "plt.show()"
      ],
      "execution_count": null,
      "outputs": [
        {
          "output_type": "display_data",
          "data": {
            "image/png": "[encoded data removed]",
            "text/plain": [
              "<Figure size 432x288 with 1 Axes>"
            ]
          },
          "metadata": {
            "tags": [],
            "needs_background": "light"
          }
        }
      ]
    },
    {
      "cell_type": "markdown",
      "metadata": {
        "id": "PSpSdMmw6_ev"
      },
      "source": [
        "Podemos incluso incluir vídeos de YouTube en nuestro cuaderno gracias al módulo de `IPython.display`:"
      ]
    },
    {
      "cell_type": "code",
      "metadata": {
        "id": "tNpZ-FAg69d6",
        "colab": {
          "base_uri": "https://localhost:8080/",
          "height": 321
        },
        "outputId": "aa079636-9c35-4bf6-891a-d93bde3c73d3"
      },
      "source": [
        "from IPython.display import YouTubeVideo\n",
        "YouTubeVideo('HW29067qVWk')"
      ],
      "execution_count": null,
      "outputs": [
        {
          "output_type": "execute_result",
          "data": {
            "text/html": [
              "\n",
              "        <iframe\n",
              "            width=\"400\"\n",
              "            height=\"300\"\n",
              "            src=\"https://www.youtube.com/embed/HW29067qVWk\"\n",
              "            frameborder=\"0\"\n",
              "            allowfullscreen\n",
              "        ></iframe>\n",
              "        "
            ],
            "text/plain": [
              "<IPython.lib.display.YouTubeVideo at 0x7f59b5355eb8>"
            ],
            "image/jpeg": "[encoded data removed]"
          },
          "metadata": {
            "tags": []
          },
          "execution_count": 67
        }
      ]
    },
    {
      "cell_type": "markdown",
      "metadata": {
        "id": "6o1TVVfeB3yI"
      },
      "source": [
        "Gracias a la librería `folium` contamos también con funcionalidad para incluir **mapas interactivos** en nuestro cuaderno:"
      ]
    },
    {
      "cell_type": "code",
      "metadata": {
        "id": "UVWBkpf88r6W"
      },
      "source": [
        "def show_map(map_center, zoom, markers):\n",
        "\n",
        "  import folium\n",
        "  import copy\n",
        "  map = folium.Map(location=map_center,zoom_start=10)\n",
        "  for marker in markers:\n",
        "    display_marker = copy.deepcopy(marker)\n",
        "    if display_marker.get('icon', None) or display_marker.get('color', None):\n",
        "      display_marker['icon'] = folium.Icon(icon=display_marker.get('icon'), color=display_marker.get('color'))\n",
        "      display_marker.pop('color', None)\n",
        "    folium.Marker(**display_marker).add_to(map)\n",
        "  return map"
      ],
      "execution_count": null,
      "outputs": []
    },
    {
      "cell_type": "code",
      "metadata": {
        "id": "YWiTxlO9-QnH",
        "colab": {
          "base_uri": "https://localhost:8080/",
          "height": 570
        },
        "outputId": "3d3e93aa-60ab-48a4-a625-93636c060b00"
      },
      "source": [
        "map_center = (37.98704, -1.13004)\n",
        "zoom = 10\n",
        "markers = [{\n",
        "    'location': (37.98704, -1.13004),\n",
        "    'popup': '<b>Murcia</b> (453.258 habitantes)',\n",
        "    'icon': 'cloud',\n",
        "    'color': 'red'\n",
        "}]\n",
        "show_map(map_center,zoom,markers)"
      ],
      "execution_count": null,
      "outputs": [
        {
          "output_type": "execute_result",
          "data": {
            "text/html": [
              "<div style=\"width:100%;\"><div style=\"position:relative;width:100%;height:0;padding-bottom:60%;\"><span style=\"color:#565656\">Make this Notebook Trusted to load map: File -> Trust Notebook</span><iframe src=\"about:blank\" style=\"position:absolute;width:100%;height:100%;left:0;top:0;border:none !important;\" data-html=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 onload=\"this.contentDocument.open();this.contentDocument.write(atob(this.getAttribute('data-html')));this.contentDocument.close();\" allowfullscreen webkitallowfullscreen mozallowfullscreen></iframe></div></div>"
            ],
            "text/plain": [
              "<folium.folium.Map at 0x7f59bd549a20>"
            ]
          },
          "metadata": {
            "tags": []
          },
          "execution_count": 59
        }
      ]
    },
    {
      "cell_type": "markdown",
      "metadata": {
        "id": "pGFmZfSbjQ85"
      },
      "source": [
        "### Ejercicio\n",
        "\n",
        "**En este ejercicio practicaremos un poco con la ejecución de comandos en Bash. En las siguientes celdas:**"
      ]
    },
    {
      "cell_type": "markdown",
      "metadata": {
        "id": "kl0T06A5jlI6"
      },
      "source": [
        "* **Muestra el contenido del directorio actual mediante el comando `ls`**:"
      ]
    },
    {
      "cell_type": "code",
      "metadata": {
        "id": "XXWS2U7NjpPL",
        "colab": {
          "base_uri": "https://localhost:8080/",
          "height": 118
        },
        "outputId": "5f69c509-222c-4996-a9cf-c39912545c7d"
      },
      "source": [
        "#@title\n",
        "%%bash\n",
        "ls"
      ],
      "execution_count": null,
      "outputs": [
        {
          "output_type": "stream",
          "text": [
            "config.yml\n",
            "ejercicio-bash\n",
            "ngrok\n",
            "ngrok-stable-linux-amd64.zip\n",
            "ngrok-stable-linux-amd64.zip.1\n",
            "sample_data\n"
          ],
          "name": "stdout"
        }
      ]
    },
    {
      "cell_type": "markdown",
      "metadata": {
        "id": "iIAW-Re4jt9j"
      },
      "source": [
        "* **Crea una carpeta `ejercicio-bash` mediante el comando `mkdir`**:"
      ]
    },
    {
      "cell_type": "code",
      "metadata": {
        "id": "fpIDJCMh3MjD"
      },
      "source": [
        "%%bash\n",
        "mkdir ejercicio-bash"
      ],
      "execution_count": null,
      "outputs": []
    },
    {
      "cell_type": "code",
      "metadata": {
        "id": "KYaSDvDNj0FS",
        "cellView": "form"
      },
      "source": [
        "#@title\n",
        "%%bash\n",
        "mkdir ejercicio-bash "
      ],
      "execution_count": null,
      "outputs": []
    },
    {
      "cell_type": "markdown",
      "metadata": {
        "id": "GIs-cT4RkBS5"
      },
      "source": [
        "* **Crea un fichero llamado `texto` con el contenido `HOLA MUNDO` en `ejercicio-bash`**:"
      ]
    },
    {
      "cell_type": "code",
      "metadata": {
        "id": "A0PkX-gn4SkB"
      },
      "source": [
        "%%bash\n",
        "echo \"HOLA MUNDO\" > ./ejercicio-bash/texto"
      ],
      "execution_count": null,
      "outputs": []
    },
    {
      "cell_type": "code",
      "metadata": {
        "id": "iCif6abzkOoY",
        "cellView": "form"
      },
      "source": [
        "#@title\n",
        "%%bash\n",
        "# echo \"HOLA MUNDO\" > ejercicio-bash/....\n",
        "echo \"HOLA MUNDO\" > ejercicio-bash/texto"
      ],
      "execution_count": null,
      "outputs": []
    },
    {
      "cell_type": "markdown",
      "metadata": {
        "id": "m2b08MFTkdiQ"
      },
      "source": [
        "* **Muestra el contenido del fichero que acabas de crear mediante `cat`:**"
      ]
    },
    {
      "cell_type": "code",
      "metadata": {
        "id": "1fUBkFyo4iAc",
        "colab": {
          "base_uri": "https://localhost:8080/",
          "height": 34
        },
        "outputId": "eb3a7193-8fe9-48a6-8b75-1e6cda67083e"
      },
      "source": [
        "cat ./ejercicio-bash/texto"
      ],
      "execution_count": null,
      "outputs": [
        {
          "output_type": "stream",
          "text": [
            "HOLA MUNDO\n"
          ],
          "name": "stdout"
        }
      ]
    },
    {
      "cell_type": "code",
      "metadata": {
        "id": "OTpQzyrBkkNZ",
        "cellView": "form"
      },
      "source": [
        "#@title\n",
        "%%bash\n",
        "cat ejercicio-bash/texto"
      ],
      "execution_count": null,
      "outputs": []
    },
    {
      "cell_type": "markdown",
      "metadata": {
        "id": "2flXBLPW7cMD"
      },
      "source": [
        "**Incluye a continuación una celda de código que muestre un vídeo de YouTube _diferente_ al incluido en el ejemplo:**"
      ]
    },
    {
      "cell_type": "code",
      "metadata": {
        "id": "x30HMLvl7zzp",
        "cellView": "form"
      },
      "source": [
        "#@title\n",
        "YouTubeVideo('StTqXEQ2l-Y')"
      ],
      "execution_count": null,
      "outputs": []
    },
    {
      "cell_type": "markdown",
      "metadata": {
        "id": "0JRRfzuS8lu3"
      },
      "source": [
        "**Anteriormente hemos definido una función `show_map` que muestra un mapa dado un centro, un nivel de zoom y una lista de marcadores. Utiliza esta función para mostrar otras ciudades o pueblos que creas que deben aparecer en el mapa:**\n",
        "\n",
        "**Puedes personalizar aún más los marcadores añadiendo al parámetro `icon` el nombre de algunos de los iconos de https://icons.getbootstrap.com/.**"
      ]
    },
    {
      "cell_type": "code",
      "metadata": {
        "id": "O62uwRm1CbK3",
        "cellView": "form"
      },
      "source": [
        "#@title\n",
        "map_center = (37.98704, -1.13004)\n",
        "zoom = 10\n",
        "markers = [\n",
        "{\n",
        "    'location': (37.98704, -1.13004),\n",
        "    'popup': '<b>Murcia</b> (453.258 habitantes)',\n",
        "    'icon': 'cloud',\n",
        "    'color': 'red'\n",
        "},\n",
        "{\n",
        "    'location': (37.6, -0.981944),\n",
        "    'popup': '<b>Cartagena</b> (214.802 habitantes)',\n",
        "    'icon': 'envelope',\n",
        "    'color': 'green'\n",
        "}]\n",
        "show_map(map_center,zoom,markers)"
      ],
      "execution_count": null,
      "outputs": []
    }
  ]
}